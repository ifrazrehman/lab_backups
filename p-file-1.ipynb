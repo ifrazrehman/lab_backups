{
 "cells": [
  {
   "cell_type": "code",
   "execution_count": 1,
   "metadata": {},
   "outputs": [],
   "source": [
    "import sys, os\n",
    "import io\n",
    "from subprocess import check_output"
   ]
  },
  {
   "cell_type": "code",
   "execution_count": 10,
   "metadata": {},
   "outputs": [
    {
     "ename": "FileNotFoundError",
     "evalue": "[Errno 2] No such file or directory: '/Users/pongbhop/Documents/python_workstation/Prelim/output/npm_gitlist_withreadme.txt'",
     "output_type": "error",
     "traceback": [
      "\u001b[0;31m--------------------------------------------------------------------------\u001b[0m",
      "\u001b[0;31mFileNotFoundError\u001b[0m                        Traceback (most recent call last)",
      "\u001b[0;32m<ipython-input-10-2a987b575e7d>\u001b[0m in \u001b[0;36m<module>\u001b[0;34m()\u001b[0m\n\u001b[1;32m     20\u001b[0m \u001b[0;31m# gitlist_all = \"/Users/pongbhop/Documents/python_workstation/npmrepo/npm_gitlist_all.txt\"\u001b[0m\u001b[0;34m\u001b[0m\u001b[0;34m\u001b[0m\u001b[0m\n\u001b[1;32m     21\u001b[0m \u001b[0;31m# gitlist_withreadme = \"/Users/pongbhop/Documents/python_workstation/Prelim/output/npm_gitlist_withreadme.txt\"\u001b[0m\u001b[0;34m\u001b[0m\u001b[0;34m\u001b[0m\u001b[0m\n\u001b[0;32m---> 22\u001b[0;31m \u001b[0mgithashlist_withreadme\u001b[0m\u001b[0;34m(\u001b[0m\u001b[0mrepo_dir\u001b[0m\u001b[0;34m,\u001b[0m\u001b[0mgitlist_withreadme\u001b[0m\u001b[0;34m)\u001b[0m\u001b[0;34m\u001b[0m\u001b[0m\n\u001b[0m\u001b[1;32m     23\u001b[0m \u001b[0mgithashlist_all\u001b[0m\u001b[0;34m(\u001b[0m\u001b[0mrepo_dir\u001b[0m\u001b[0;34m,\u001b[0m\u001b[0mgitlist_all\u001b[0m\u001b[0;34m)\u001b[0m\u001b[0;34m\u001b[0m\u001b[0m\n",
      "\u001b[0;32m<ipython-input-10-2a987b575e7d>\u001b[0m in \u001b[0;36mgithashlist_withreadme\u001b[0;34m(repo_dir, commitlist_path)\u001b[0m\n\u001b[1;32m      4\u001b[0m     \u001b[0;31m# str = os.popen(\"git log --pretty=format:%H -- README.md > \" + output_path).read()\u001b[0m\u001b[0;34m\u001b[0m\u001b[0;34m\u001b[0m\u001b[0m\n\u001b[1;32m      5\u001b[0m     \u001b[0mstr\u001b[0m \u001b[0;34m=\u001b[0m \u001b[0mos\u001b[0m\u001b[0;34m.\u001b[0m\u001b[0mpopen\u001b[0m\u001b[0;34m(\u001b[0m\u001b[0;34m\"git log --pretty=format:%an -- Contributors.md\"\u001b[0m\u001b[0;34m)\u001b[0m\u001b[0;34m.\u001b[0m\u001b[0mread\u001b[0m\u001b[0;34m(\u001b[0m\u001b[0;34m)\u001b[0m\u001b[0;34m\u001b[0m\u001b[0m\n\u001b[0;32m----> 6\u001b[0;31m     \u001b[0mgitlist_file\u001b[0m \u001b[0;34m=\u001b[0m \u001b[0mopen\u001b[0m\u001b[0;34m(\u001b[0m\u001b[0mcommitlist_path\u001b[0m\u001b[0;34m,\u001b[0m \u001b[0;34m'w'\u001b[0m\u001b[0;34m)\u001b[0m\u001b[0;34m\u001b[0m\u001b[0m\n\u001b[0m\u001b[1;32m      7\u001b[0m     \u001b[0mgitlist_file\u001b[0m\u001b[0;34m.\u001b[0m\u001b[0mwrite\u001b[0m\u001b[0;34m(\u001b[0m\u001b[0mstr\u001b[0m\u001b[0;34m)\u001b[0m\u001b[0;34m\u001b[0m\u001b[0m\n\u001b[1;32m      8\u001b[0m     \u001b[0mgitlist_file\u001b[0m\u001b[0;34m.\u001b[0m\u001b[0mclose\u001b[0m\u001b[0;34m(\u001b[0m\u001b[0;34m)\u001b[0m\u001b[0;34m\u001b[0m\u001b[0m\n",
      "\u001b[0;31mFileNotFoundError\u001b[0m: [Errno 2] No such file or directory: '/Users/pongbhop/Documents/python_workstation/Prelim/output/npm_gitlist_withreadme.txt'"
     ]
    }
   ],
   "source": [
    "#create git hash lists that contain README\n",
    "def githashlist_withreadme(repo_dir,commitlist_path):\n",
    "    os.chdir(repo_dir)\n",
    "    # str = os.popen(\"git log --pretty=format:%H -- README.md > \" + output_path).read()\n",
    "    str = os.popen(\"git log --pretty=format:%an -- Contributors.md\").read()\n",
    "    gitlist_file = open(commitlist_path, 'w')\n",
    "    gitlist_file.write(str)\n",
    "    gitlist_file.close()\n",
    "\n",
    "def githashlist_all(repo_dir,commitlist_path):\n",
    "    os.chdir(repo_dir)\n",
    "    # str = os.popen(\"git log --pretty=format:%H -- README.md > \" + output_path).read()\n",
    "    str = os.popen(\"git log --pretty=format:%an\").read()\n",
    "    gitlist_file = open(commitlist_path, 'w')\n",
    "    gitlist_file.write(str)\n",
    "    gitlist_file.close()\n",
    "    \n",
    "###SETTING PATH here\n",
    "repo_dir = \"/Users/ifraz-re/project_2/first-contributions/\"\n",
    "gitlist_all = \"/Users/pongbhop/Documents/python_workstation/npmrepo/npm_gitlist_all.txt\"\n",
    "gitlist_withreadme = \"/Users/pongbhop/Documents/python_workstation/Prelim/output/npm_gitlist_withreadme.txt\"\n",
    "githashlist_withreadme(repo_dir,gitlist_withreadme)\n",
    "githashlist_all(repo_dir,gitlist_all)\n",
    "\n"
   ]
  },
  {
   "cell_type": "code",
   "execution_count": null,
   "metadata": {},
   "outputs": [],
   "source": []
  }
 ],
 "metadata": {
  "kernelspec": {
   "display_name": "Python 3",
   "language": "python",
   "name": "python3"
  },
  "language_info": {
   "codemirror_mode": {
    "name": "ipython",
    "version": 3
   },
   "file_extension": ".py",
   "mimetype": "text/x-python",
   "name": "python",
   "nbconvert_exporter": "python",
   "pygments_lexer": "ipython3",
   "version": "3.7.0"
  }
 },
 "nbformat": 4,
 "nbformat_minor": 2
}
