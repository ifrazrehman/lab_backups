{
 "cells": [
  {
   "cell_type": "code",
   "execution_count": 1,
   "metadata": {},
   "outputs": [],
   "source": [
    "import sys, os\n",
    "import io\n",
    "import csv\n",
    "from collections import defaultdict\n",
    "from collections import Counter\n",
    "from subprocess import check_output"
   ]
  },
  {
   "cell_type": "code",
   "execution_count": 8,
   "metadata": {},
   "outputs": [
    {
     "ename": "NameError",
     "evalue": "name 'author_name' is not defined",
     "output_type": "error",
     "traceback": [
      "\u001b[0;31m--------------------------------------------------------------------------\u001b[0m",
      "\u001b[0;31mNameError\u001b[0m                                Traceback (most recent call last)",
      "\u001b[0;32m<ipython-input-8-b36d792bc867>\u001b[0m in \u001b[0;36m<module>\u001b[0;34m()\u001b[0m\n\u001b[1;32m     38\u001b[0m \u001b[0minput\u001b[0m \u001b[0;34m=\u001b[0m \u001b[0;34m\"/Users/ifraz-re/project_2/first-contributions/Contributors.md\"\u001b[0m\u001b[0;34m\u001b[0m\u001b[0m\n\u001b[1;32m     39\u001b[0m \u001b[0moutput\u001b[0m\u001b[0;34m=\u001b[0m \u001b[0;34m\"file2Practice.txt\"\u001b[0m\u001b[0;34m\u001b[0m\u001b[0m\n\u001b[0;32m---> 40\u001b[0;31m \u001b[0mextract\u001b[0m\u001b[0;34m(\u001b[0m\u001b[0mrepo_dir\u001b[0m\u001b[0;34m,\u001b[0m\u001b[0minput\u001b[0m\u001b[0;34m,\u001b[0m\u001b[0moutput\u001b[0m\u001b[0;34m)\u001b[0m\u001b[0;34m\u001b[0m\u001b[0m\n\u001b[0m\u001b[1;32m     41\u001b[0m \u001b[0;34m\u001b[0m\u001b[0m\n",
      "\u001b[0;32m<ipython-input-8-b36d792bc867>\u001b[0m in \u001b[0;36mextract\u001b[0;34m(repo_dir, input_path, output_path)\u001b[0m\n\u001b[1;32m     20\u001b[0m             \u001b[0;31m#Do something\u001b[0m\u001b[0;34m\u001b[0m\u001b[0;34m\u001b[0m\u001b[0m\n\u001b[1;32m     21\u001b[0m \u001b[0;34m\u001b[0m\u001b[0m\n\u001b[0;32m---> 22\u001b[0;31m             \u001b[0moutput\u001b[0m\u001b[0;34m.\u001b[0m\u001b[0mwrite\u001b[0m\u001b[0;34m(\u001b[0m\u001b[0mcommit_id\u001b[0m\u001b[0;34m+\u001b[0m\u001b[0;34m\",\"\u001b[0m\u001b[0;34m+\u001b[0m\u001b[0mauthor_name\u001b[0m\u001b[0;34m+\u001b[0m\u001b[0;34m\",\"\u001b[0m\u001b[0;34m+\u001b[0m \u001b[0mdate\u001b[0m \u001b[0;34m+\u001b[0m \u001b[0;34m\",\"\u001b[0m\u001b[0;34m+\u001b[0m \u001b[0mstr\u001b[0m\u001b[0;34m(\u001b[0m\u001b[0mact_file_code\u001b[0m\u001b[0;34m)\u001b[0m\u001b[0;34m+\u001b[0m\u001b[0;34m\"\\n\"\u001b[0m\u001b[0;34m)\u001b[0m\u001b[0;34m\u001b[0m\u001b[0m\n\u001b[0m\u001b[1;32m     23\u001b[0m \u001b[0;34m\u001b[0m\u001b[0m\n\u001b[1;32m     24\u001b[0m \u001b[0;34m\u001b[0m\u001b[0m\n",
      "\u001b[0;31mNameError\u001b[0m: name 'author_name' is not defined"
     ]
    }
   ],
   "source": [
    "def extract(repo_dir,input_path,output_path):\n",
    "    os.chdir(repo_dir)\n",
    "    file = open(input_path, \"r\")\n",
    "    output = open(output_path , \"w\")\n",
    "\n",
    "    # (0 = readme itself, 1 = with readme, 2 = other files)\n",
    "    #output.write(\"commit_id,filename,date,code\\n\")\n",
    "    count =0\n",
    "    for line in file:\n",
    "        commit_id = line[0:7]\n",
    "        date = os.popen(\"git log \" + commit_id + \" --pretty=format:\\\"%ct\\\"\" + \" -1\").read()\n",
    "\n",
    "        #ADD git command to extract committor and author here\n",
    "        #file_list= list()\n",
    "        s = os.popen(\"git log  --name-only --oneline \" + line.strip() +  \" -1\" ).read()\n",
    "        buf = io.StringIO(s)\n",
    "        count = 0\n",
    "\n",
    "        for line in buf:\n",
    "            #Do something\n",
    "\n",
    "            output.write(commit_id+\",\"+author_name+\",\"+ date + \",\"+ str(act_file_code)+\"\\n\")\n",
    "\n",
    "\n",
    "\n",
    "\n",
    "\n",
    "\n",
    "        #\n",
    "        # s = os.popen(\"git log  --name-only --oneline \" + commit_id +  \" -1\" ).read()\n",
    "        # buff = io.StringIO(s)\n",
    "        # for line in buff:\n",
    "        #     print(line)\n",
    "\n",
    "\n",
    "\n",
    "repo_dir = \"/Users/ifraz-re/project_2/first-contributions/\"\n",
    "input = \"/Users/ifraz-re/project_2/first-contributions/Contributors.md\"\n",
    "output= \"file2Practice.txt\"\n",
    "extract(repo_dir,input,output)\n",
    "\n",
    "\n"
   ]
  },
  {
   "cell_type": "code",
   "execution_count": null,
   "metadata": {},
   "outputs": [],
   "source": []
  },
  {
   "cell_type": "code",
   "execution_count": null,
   "metadata": {},
   "outputs": [],
   "source": []
  }
 ],
 "metadata": {
  "kernelspec": {
   "display_name": "Python 3",
   "language": "python",
   "name": "python3"
  },
  "language_info": {
   "codemirror_mode": {
    "name": "ipython",
    "version": 3
   },
   "file_extension": ".py",
   "mimetype": "text/x-python",
   "name": "python",
   "nbconvert_exporter": "python",
   "pygments_lexer": "ipython3",
   "version": "3.7.0"
  }
 },
 "nbformat": 4,
 "nbformat_minor": 2
}
