{
 "cells": [
  {
   "cell_type": "code",
   "execution_count": 1,
   "metadata": {},
   "outputs": [],
   "source": [
    "import sys, os\n",
    "import io\n",
    "import csv\n",
    "from collections import defaultdict\n",
    "from collections import Counter\n",
    "from subprocess import check_output"
   ]
  },
  {
   "cell_type": "code",
   "execution_count": 2,
   "metadata": {},
   "outputs": [
    {
     "ename": "IndentationError",
     "evalue": "expected an indented block (<ipython-input-2-e4dabe48b074>, line 22)",
     "output_type": "error",
     "traceback": [
      "\u001b[0;36m  File \u001b[0;32m\"<ipython-input-2-e4dabe48b074>\"\u001b[0;36m, line \u001b[0;32m22\u001b[0m\n\u001b[0;31m    output.write(commit_id+\",\"+autohr_name+\",\"+ date + \",\"+ str(act_file_code)+\"\\n\")\u001b[0m\n\u001b[0m         ^\u001b[0m\n\u001b[0;31mIndentationError\u001b[0m\u001b[0;31m:\u001b[0m expected an indented block\n"
     ]
    }
   ],
   "source": [
    "def extract(repo_dir,input_path,output_path):\n",
    "    os.chdir(repo_dir)\n",
    "    file = open(input_path, \"r\")\n",
    "    output = open(output_path , \"w\")\n",
    "\n",
    "    # (0 = readme itself, 1 = with readme, 2 = other files)\n",
    "    #output.write(\"commit_id,filename,date,code\\n\")\n",
    "    count =0\n",
    "    for line in file:\n",
    "        commit_id = line[0:7]\n",
    "        date = os.popen(\"git log \" + commit_id + \" --pretty=format:\\\"%ct\\\"\" + \" -1\").read()\n",
    "\n",
    "        #ADD git command to extract committor and author here\n",
    "        #file_list= list()\n",
    "        s = os.popen(\"git log  --name-only --oneline \" + line.strip() +  \" -1\" ).read()\n",
    "        buf = io.StringIO(s)\n",
    "        count = 0\n",
    "\n",
    "        for line in buf:\n",
    "            #Do something\n",
    "\n",
    "        output.write(commit_id+\",\"+autohr_name+\",\"+ date + \",\"+ str(act_file_code)+\"\\n\")\n",
    "\n",
    "\n",
    "\n",
    "\n",
    "\n",
    "\n",
    "        #\n",
    "        # s = os.popen(\"git log  --name-only --oneline \" + commit_id +  \" -1\" ).read()\n",
    "        # buff = io.StringIO(s)\n",
    "        # for line in buff:\n",
    "        #     print(line)\n",
    "\n",
    "\n",
    "\n",
    "repo_dir = \"\"\n",
    "input = \"\"\n",
    "output= \"\"\n",
    "extract(repo_dir,input,output)\n",
    "\n"
   ]
  }
 ],
 "metadata": {
  "kernelspec": {
   "display_name": "Python 3",
   "language": "python",
   "name": "python3"
  },
  "language_info": {
   "codemirror_mode": {
    "name": "ipython",
    "version": 3
   },
   "file_extension": ".py",
   "mimetype": "text/x-python",
   "name": "python",
   "nbconvert_exporter": "python",
   "pygments_lexer": "ipython3",
   "version": "3.7.0"
  }
 },
 "nbformat": 4,
 "nbformat_minor": 2
}
