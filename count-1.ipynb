{
 "cells": [
  {
   "cell_type": "code",
   "execution_count": 1,
   "metadata": {},
   "outputs": [],
   "source": [
    "import pandas as pd\n",
    "import numpy as np # pandas to read, write excel files\n",
    "import matplotlib.pyplot as plt # to boxplot graph\n",
    "%matplotlib inline"
   ]
  },
  {
   "cell_type": "code",
   "execution_count": 5,
   "metadata": {},
   "outputs": [
    {
     "data": {
      "text/plain": [
       "Text(0.5,1,'BOX plot for number of commits/contributor')"
      ]
     },
     "execution_count": 5,
     "metadata": {},
     "output_type": "execute_result"
    },
    {
     "data": {
      "image/png": "[encoded data removed]",
      "text/plain": [
       "<Figure size 432x288 with 1 Axes>"
      ]
     },
     "metadata": {
      "needs_background": "light"
     },
     "output_type": "display_data"
    }
   ],
   "source": [
    "authors_mixed=[] #list1\n",
    "authors=[] #list2\n",
    "commit=[] #list3\n",
    "\n",
    "data= pd.read_csv(\"result_1.csv\") # data variable to load result-final-1.csv file\n",
    "size= data.shape # size variable to check the size of data\n",
    "\n",
    "author_data_temp= data['commits.author_id']# to access attribute commits.author_id\n",
    "commit_data_temp= data['commits.id'] # to access attribute commits.id\n",
    "\n",
    "for element1 in author_data_temp:\n",
    "        authors_mixed.append(element1) \n",
    "\n",
    "x=np.unique(authors_mixed)\n",
    "y=np.unique(commit_data_temp)\n",
    "\n",
    "for element2 in x:\n",
    "     authors.append(element2)    \n",
    "    \n",
    "count=0\n",
    "for item1 in authors:\n",
    "    for element3 in authors_mixed:\n",
    "        if item1==element3:\n",
    "            count=count+1\n",
    "    \n",
    "    commit.append(count)\n",
    "    count=0\n",
    "\n",
    "# plt.boxplot(commit)\n",
    "# plt.ylabel(\"Number of commit\")\n",
    "# plt.title(\"BOX plot for number of commits\")\n",
    "\n",
    "# plt.boxplot(authors)\n",
    "# plt.ylabel(\"Number of contributors\")\n",
    "# plt.title(\"BOX plot for number of contributors\")\n",
    "\n",
    "plt.boxplot(authors,commit)\n",
    "plt.xlabel(\"Number of authors\")\n",
    "plt.ylabel(\"Number of commit\")\n",
    "plt.title(\"BOX plot for number of commits/contributor\")\n"
   ]
  },
  {
   "cell_type": "code",
   "execution_count": null,
   "metadata": {},
   "outputs": [],
   "source": []
  }
 ],
 "metadata": {
  "kernelspec": {
   "display_name": "Python 3",
   "language": "python",
   "name": "python3"
  },
  "language_info": {
   "codemirror_mode": {
    "name": "ipython",
    "version": 3
   },
   "file_extension": ".py",
   "mimetype": "text/x-python",
   "name": "python",
   "nbconvert_exporter": "python",
   "pygments_lexer": "ipython3",
   "version": "3.7.0"
  }
 },
 "nbformat": 4,
 "nbformat_minor": 2
}
